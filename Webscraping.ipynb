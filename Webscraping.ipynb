{
 "cells": [
  {
   "cell_type": "code",
   "execution_count": 6,
   "id": "ead0defe-2542-4eb9-acf0-c011a83f2340",
   "metadata": {},
   "outputs": [],
   "source": [
    "from bs4 import BeautifulSoup\n",
    "import requests\n",
    "import time\n",
    "import datetime\n",
    "import smtplib\n",
    "import pandas as pd"
   ]
  },
  {
   "cell_type": "code",
   "execution_count": 7,
   "id": "ff172aa2-4ffa-4272-87c8-f5985fa4231b",
   "metadata": {},
   "outputs": [],
   "source": [
    "URL = 'https://www.amazon.com/s?k=shoes&crid=1MUCFXK3CPD3E&sprefix=shoes%2Caps%2C154&ref=nb_sb_noss_1'\n",
    "headers = {'authority': 'www.amazon.com',\n",
    "'pragma': 'no-cache',\n",
    "'cache-control': 'no-cache',\n",
    "'dnt': '1',\n",
    "'upgrade-insecure-requests': '1',\n",
    "'user-agent': 'Mozilla/5.0 (X11; CrOS x86_64 8172.45.0) AppleWebKit/537.36 (KHTML, like Gecko) Chrome/51.0.2704.64 Safari/537.36',\n",
    "'accept': 'text/html,application/xhtml+xml,application/xml;q=0.9,image/webp,image/apng,*/*;q=0.8,application/signed-exchange;v=b3;q=0.9',\n",
    "'sec-fetch-site': 'none',\n",
    "'sec-fetch-mode': 'navigate',\n",
    "'sec-fetch-dest': 'document',\n",
    "'accept-language': 'en-GB,en-US;q=0.9,en;q=0.8', }\n",
    "page = requests.get(URL, headers=headers)\n",
    "soup1 = BeautifulSoup(page.content, \"html.parser\")\n",
    "soup2 = BeautifulSoup(soup1.prettify(), \"html.parser\")\n",
    "title_items =  soup2.find_all('span', class_ = \"a-size-base-plus a-color-base a-text-normal\")\n",
    "titles_list = [title.getText().strip() for title in title_items]\n",
    "All_price = soup2.find_all('span', class_ = \"a-offscreen\")\n",
    "price_list = [price.getText().strip() for price in All_price]\n",
    "\n"
   ]
  },
  {
   "cell_type": "code",
   "execution_count": 27,
   "id": "b80b8fc9-eb91-442d-bdbd-cd4525268904",
   "metadata": {},
   "outputs": [
    {
     "name": "stdout",
     "output_type": "stream",
     "text": [
      "['2023-09-28']\n"
     ]
    }
   ],
   "source": [
    "import datetime\n",
    "\n",
    "today = datetime.date.today()\n",
    "formatted_today = today.strftime('%Y-%m-%d')\n",
    "date_list = [formatted_today]\n",
    "print(date_list)\n"
   ]
  },
  {
   "cell_type": "code",
   "execution_count": 28,
   "id": "2dd1951f-a744-4f98-bca5-871d7da278b0",
   "metadata": {},
   "outputs": [],
   "source": [
    "df1 = pd.DataFrame({'Item Titles': titles_list})\n",
    "df2 = pd.DataFrame({'Prices': price_list})\n",
    "df3 = pd.DataFrame({'Date': date_list})\n",
    "result_df=pd.concat([df1,df2,df3], axis=1)"
   ]
  },
  {
   "cell_type": "code",
   "execution_count": 30,
   "id": "9c8c7c39-b1f8-455b-b460-84355f4ed7ab",
   "metadata": {},
   "outputs": [],
   "source": [
    "result_df.to_excel('amazon_shoes.xlsx',index=False)"
   ]
  },
  {
   "cell_type": "code",
   "execution_count": null,
   "id": "e5a01cfa-b89c-491d-bfb0-c6aabe41c42c",
   "metadata": {},
   "outputs": [],
   "source": []
  }
 ],
 "metadata": {
  "kernelspec": {
   "display_name": "Python 3 (ipykernel)",
   "language": "python",
   "name": "python3"
  },
  "language_info": {
   "codemirror_mode": {
    "name": "ipython",
    "version": 3
   },
   "file_extension": ".py",
   "mimetype": "text/x-python",
   "name": "python",
   "nbconvert_exporter": "python",
   "pygments_lexer": "ipython3",
   "version": "3.11.5"
  }
 },
 "nbformat": 4,
 "nbformat_minor": 5
}
